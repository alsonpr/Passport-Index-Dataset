{
 "cells": [
  {
   "cell_type": "markdown",
   "source": [
    "## Import Libraries"
   ],
   "metadata": {
    "collapsed": false
   }
  },
  {
   "cell_type": "code",
   "execution_count": 1,
   "outputs": [
    {
     "name": "stdout",
     "output_type": "stream",
     "text": [
      "Requirement already satisfied: XlsxWriter in /Users/alson/miniforge3/envs/env_tf/lib/python3.8/site-packages (3.0.3)\r\n"
     ]
    }
   ],
   "source": [
    "!pip install XlsxWriter"
   ],
   "metadata": {
    "collapsed": false,
    "ExecuteTime": {
     "end_time": "2023-05-17T03:15:04.615032Z",
     "start_time": "2023-05-17T03:15:03.328393Z"
    }
   }
  },
  {
   "cell_type": "code",
   "execution_count": 2,
   "outputs": [],
   "source": [
    "from urllib.request import Request, urlopen\n",
    "from datetime import datetime\n",
    "import re\n",
    "import json\n",
    "import pandas as pd"
   ],
   "metadata": {
    "collapsed": false,
    "ExecuteTime": {
     "end_time": "2023-05-17T03:15:04.805144Z",
     "start_time": "2023-05-17T03:15:04.616659Z"
    }
   }
  },
  {
   "cell_type": "markdown",
   "source": [
    "## Read all countries listed"
   ],
   "metadata": {
    "collapsed": false
   }
  },
  {
   "cell_type": "code",
   "execution_count": 3,
   "outputs": [],
   "source": [
    "countries = pd.read_excel(\"all_countries_listed.xlsx\")"
   ],
   "metadata": {
    "collapsed": false,
    "ExecuteTime": {
     "end_time": "2023-05-17T03:15:05.089605Z",
     "start_time": "2023-05-17T03:15:04.805510Z"
    }
   }
  },
  {
   "cell_type": "code",
   "execution_count": 4,
   "outputs": [
    {
     "name": "stdout",
     "output_type": "stream",
     "text": [
      "Data not found for Anguilla\n",
      "Data not found for Antarctica\n",
      "Data not found for Aruba\n",
      "Data not found for Bermuda\n",
      "Data not found for Bouvet Island\n",
      "Data not found for British Indian Ocean Territory\n",
      "Data not found for British Virgin Islands\n",
      "Data not found for Cayman Islands\n",
      "Data not found for Christmas Island\n",
      "Data not found for Cocos [Keeling] Islands\n",
      "Data not found for Cook Islands\n",
      "Data not found for Falkland Islands [Islas Malvinas]\n",
      "Data not found for Faroe Islands\n",
      "Data not found for French Guiana\n",
      "Data not found for French Polynesia\n",
      "Data not found for French Southern Territories\n",
      "Data not found for Gaza Strip\n",
      "Data not found for Gibraltar\n",
      "Data not found for Greenland\n",
      "Data not found for Guadeloupe\n",
      "Data not found for Guam\n",
      "Data not found for Guernsey\n",
      "Data not found for Heard Island and McDonald Islands\n",
      "Data not found for Isle of Man\n",
      "Data not found for Jersey\n",
      "Data not found for Martinique\n",
      "Data not found for Mayotte\n",
      "Data not found for Montserrat\n",
      "Data not found for Netherlands Antilles\n",
      "Data not found for New Caledonia\n",
      "Data not found for Niue\n",
      "Data not found for Norfolk Island\n",
      "Data not found for Northern Mariana Islands\n",
      "Data not found for Pitcairn Islands\n",
      "Data not found for Puerto Rico\n",
      "Data not found for Réunion\n",
      "Data not found for Saint Helena\n",
      "Data not found for Saint Pierre and Miquelon\n",
      "Data not found for South Georgia and the South Sandwich Islands\n",
      "Data not found for Svalbard and Jan Mayen\n",
      "Data not found for Tokelau\n",
      "Data not found for Turks and Caicos Islands\n",
      "Data not found for U.S. Virgin Islands\n",
      "Data not found for Wallis and Futuna\n",
      "Data not found for Western Sahara\n"
     ]
    }
   ],
   "source": [
    "base_url = \"https://www.passportindex.org/passport/\"\n",
    "count = 0\n",
    "all_data = []\n",
    "all_countries = []\n",
    "for _ ,row in countries.iterrows():\n",
    "    try:\n",
    "        # Get country name and slug\n",
    "        country = row['name']\n",
    "        slug = row['slug']\n",
    "\n",
    "        # Build URL and fetch webpage\n",
    "        url = (base_url+slug).replace(\" \", \"\")\n",
    "        req = Request(url, headers={'User-Agent': 'Mozilla/5.0'})\n",
    "        webpage = urlopen(req).read().decode(\"utf8\")\n",
    "\n",
    "        # Extract data from webpage\n",
    "        finder = re.findall(r'sample_data = .*;', webpage)\n",
    "        data = finder[0].replace('sample_data = ', '').replace(';','').strip()\n",
    "        data = data.replace('\\t','')\n",
    "        data = data.replace('\\n','')\n",
    "        data = data.replace(',}','}')\n",
    "        data = data.replace(',]',']')\n",
    "        data = json.loads(data)\n",
    "\n",
    "        # Append country data to list\n",
    "        all_data.append({\"country\": country,\"data\":data})\n",
    "        all_countries.append(country)\n",
    "        count = count + 1\n",
    "    except:\n",
    "        print(\"Data not found for\", country)\n",
    "        continue\n"
   ],
   "metadata": {
    "collapsed": false,
    "ExecuteTime": {
     "end_time": "2023-05-17T03:18:27.451081Z",
     "start_time": "2023-05-17T03:15:05.092607Z"
    }
   }
  },
  {
   "cell_type": "code",
   "execution_count": 5,
   "outputs": [
    {
     "data": {
      "text/plain": "      country_code requirement_status       origin\n0               AL                  0  Afghanistan\n1               DZ                  0  Afghanistan\n2               AD                  0  Afghanistan\n3               AO                  1  Afghanistan\n4               AG                  0  Afghanistan\n...            ...                ...          ...\n39596           VE                  0     Zimbabwe\n39597           VN                  0     Zimbabwe\n39598           YE                  0     Zimbabwe\n39599           ZM                  2     Zimbabwe\n39600           ZW                  4     Zimbabwe\n\n[39601 rows x 3 columns]",
      "text/html": "<div>\n<style scoped>\n    .dataframe tbody tr th:only-of-type {\n        vertical-align: middle;\n    }\n\n    .dataframe tbody tr th {\n        vertical-align: top;\n    }\n\n    .dataframe thead th {\n        text-align: right;\n    }\n</style>\n<table border=\"1\" class=\"dataframe\">\n  <thead>\n    <tr style=\"text-align: right;\">\n      <th></th>\n      <th>country_code</th>\n      <th>requirement_status</th>\n      <th>origin</th>\n    </tr>\n  </thead>\n  <tbody>\n    <tr>\n      <th>0</th>\n      <td>AL</td>\n      <td>0</td>\n      <td>Afghanistan</td>\n    </tr>\n    <tr>\n      <th>1</th>\n      <td>DZ</td>\n      <td>0</td>\n      <td>Afghanistan</td>\n    </tr>\n    <tr>\n      <th>2</th>\n      <td>AD</td>\n      <td>0</td>\n      <td>Afghanistan</td>\n    </tr>\n    <tr>\n      <th>3</th>\n      <td>AO</td>\n      <td>1</td>\n      <td>Afghanistan</td>\n    </tr>\n    <tr>\n      <th>4</th>\n      <td>AG</td>\n      <td>0</td>\n      <td>Afghanistan</td>\n    </tr>\n    <tr>\n      <th>...</th>\n      <td>...</td>\n      <td>...</td>\n      <td>...</td>\n    </tr>\n    <tr>\n      <th>39596</th>\n      <td>VE</td>\n      <td>0</td>\n      <td>Zimbabwe</td>\n    </tr>\n    <tr>\n      <th>39597</th>\n      <td>VN</td>\n      <td>0</td>\n      <td>Zimbabwe</td>\n    </tr>\n    <tr>\n      <th>39598</th>\n      <td>YE</td>\n      <td>0</td>\n      <td>Zimbabwe</td>\n    </tr>\n    <tr>\n      <th>39599</th>\n      <td>ZM</td>\n      <td>2</td>\n      <td>Zimbabwe</td>\n    </tr>\n    <tr>\n      <th>39600</th>\n      <td>ZW</td>\n      <td>4</td>\n      <td>Zimbabwe</td>\n    </tr>\n  </tbody>\n</table>\n<p>39601 rows × 3 columns</p>\n</div>"
     },
     "execution_count": 5,
     "metadata": {},
     "output_type": "execute_result"
    }
   ],
   "source": [
    "all_df = []\n",
    "\n",
    "#iterate through all data and create a dataframe\n",
    "for item in all_data:\n",
    "    df = pd.DataFrame([item['data']]).T.reset_index()\n",
    "    df['country'] = item['country']\n",
    "    all_df.append(df)\n",
    "\n",
    "data_df = pd.concat(all_df, ignore_index=True)\n",
    "data_df['index'] = data_df['index'].str.upper()\n",
    "data_df = data_df.rename(columns={'index': 'country_code',\n",
    "                                  'country': 'origin',\n",
    "                                  0:'requirement_status'\n",
    "                                  })\n",
    "data_df"
   ],
   "metadata": {
    "collapsed": false,
    "ExecuteTime": {
     "end_time": "2023-05-17T03:18:28.065360Z",
     "start_time": "2023-05-17T03:18:27.923707Z"
    }
   }
  },
  {
   "cell_type": "code",
   "execution_count": 6,
   "outputs": [
    {
     "data": {
      "text/plain": "            origin          destination requirement_status      requirement\n0      Afghanistan              Albania                  0    visa_required\n1      Afghanistan              Algeria                  0    visa_required\n2      Afghanistan              Andorra                  0    visa_required\n3      Afghanistan               Angola                  1  visa_on_arrival\n4      Afghanistan  Antigua and Barbuda                  0    visa_required\n...            ...                  ...                ...              ...\n39596     Zimbabwe            Venezuela                  0    visa_required\n39597     Zimbabwe              Vietnam                  0    visa_required\n39598     Zimbabwe                Yemen                  0    visa_required\n39599     Zimbabwe               Zambia                  2        visa_free\n39600     Zimbabwe             Zimbabwe                  4              NaN\n\n[39601 rows x 4 columns]",
      "text/html": "<div>\n<style scoped>\n    .dataframe tbody tr th:only-of-type {\n        vertical-align: middle;\n    }\n\n    .dataframe tbody tr th {\n        vertical-align: top;\n    }\n\n    .dataframe thead th {\n        text-align: right;\n    }\n</style>\n<table border=\"1\" class=\"dataframe\">\n  <thead>\n    <tr style=\"text-align: right;\">\n      <th></th>\n      <th>origin</th>\n      <th>destination</th>\n      <th>requirement_status</th>\n      <th>requirement</th>\n    </tr>\n  </thead>\n  <tbody>\n    <tr>\n      <th>0</th>\n      <td>Afghanistan</td>\n      <td>Albania</td>\n      <td>0</td>\n      <td>visa_required</td>\n    </tr>\n    <tr>\n      <th>1</th>\n      <td>Afghanistan</td>\n      <td>Algeria</td>\n      <td>0</td>\n      <td>visa_required</td>\n    </tr>\n    <tr>\n      <th>2</th>\n      <td>Afghanistan</td>\n      <td>Andorra</td>\n      <td>0</td>\n      <td>visa_required</td>\n    </tr>\n    <tr>\n      <th>3</th>\n      <td>Afghanistan</td>\n      <td>Angola</td>\n      <td>1</td>\n      <td>visa_on_arrival</td>\n    </tr>\n    <tr>\n      <th>4</th>\n      <td>Afghanistan</td>\n      <td>Antigua and Barbuda</td>\n      <td>0</td>\n      <td>visa_required</td>\n    </tr>\n    <tr>\n      <th>...</th>\n      <td>...</td>\n      <td>...</td>\n      <td>...</td>\n      <td>...</td>\n    </tr>\n    <tr>\n      <th>39596</th>\n      <td>Zimbabwe</td>\n      <td>Venezuela</td>\n      <td>0</td>\n      <td>visa_required</td>\n    </tr>\n    <tr>\n      <th>39597</th>\n      <td>Zimbabwe</td>\n      <td>Vietnam</td>\n      <td>0</td>\n      <td>visa_required</td>\n    </tr>\n    <tr>\n      <th>39598</th>\n      <td>Zimbabwe</td>\n      <td>Yemen</td>\n      <td>0</td>\n      <td>visa_required</td>\n    </tr>\n    <tr>\n      <th>39599</th>\n      <td>Zimbabwe</td>\n      <td>Zambia</td>\n      <td>2</td>\n      <td>visa_free</td>\n    </tr>\n    <tr>\n      <th>39600</th>\n      <td>Zimbabwe</td>\n      <td>Zimbabwe</td>\n      <td>4</td>\n      <td>NaN</td>\n    </tr>\n  </tbody>\n</table>\n<p>39601 rows × 4 columns</p>\n</div>"
     },
     "execution_count": 6,
     "metadata": {},
     "output_type": "execute_result"
    }
   ],
   "source": [
    "#Merge country code with country name\n",
    "data_df['destination']= data_df[['country_code']].merge(countries,how='left').name\n",
    "data_df.loc[data_df['country_code'] == 'NA', 'destination'] = 'Namibia'\n",
    "\n",
    "#Map requirement status to readable text\n",
    "data_df = data_df[['origin', 'destination', 'requirement_status']]\n",
    "mapping = {'0': 'visa_required', '1': 'visa_on_arrival', '2': 'visa_free', '3': 'eta'}\n",
    "data_df['requirement'] = data_df['requirement_status'].map(mapping)\n",
    "\n",
    "data_df"
   ],
   "metadata": {
    "collapsed": false,
    "ExecuteTime": {
     "end_time": "2023-05-17T03:18:28.088432Z",
     "start_time": "2023-05-17T03:18:28.072371Z"
    }
   }
  },
  {
   "cell_type": "code",
   "execution_count": 7,
   "outputs": [],
   "source": [
    "country_lst = []\n",
    "visa_free_lst = []\n",
    "visa_on_arrival_lst = []\n",
    "eta_lst = []\n",
    "visa_required_lst = []\n",
    "mobility_score_lst = []\n",
    "\n",
    "for country in all_countries:\n",
    "    country_status = data_df[data_df.origin == country].requirement.value_counts()\n",
    "    visa_free = country_status.get('visa_free', 0)\n",
    "    visa_on_arrival = country_status.get('visa_on_arrival', 0)\n",
    "    eta_val = country_status.get('eta', 0)\n",
    "    visa_required = country_status.get('visa_required', 0)\n",
    "\n",
    "    mobility_score = visa_free + visa_on_arrival + eta_val\n",
    "\n",
    "    country_lst.append(country)\n",
    "    visa_free_lst.append(visa_free)\n",
    "    visa_on_arrival_lst.append(visa_on_arrival)\n",
    "    eta_lst.append(eta_val)\n",
    "    visa_required_lst.append(visa_required)\n",
    "    mobility_score_lst.append(mobility_score)\n",
    "\n",
    "data={'country':country_lst,\n",
    "      'visa_free':visa_free_lst,\n",
    "      'visa_on_arrival':visa_on_arrival_lst,\n",
    "      'eta (Electronic travel authorization)': eta_lst,\n",
    "      'visa_required': visa_required_lst,\n",
    "      'mobility_score':mobility_score_lst\n",
    "\n",
    "      }\n",
    "df_country_status = pd.DataFrame(data).sort_values(by='mobility_score', ascending=False).reset_index(drop=True)"
   ],
   "metadata": {
    "collapsed": false,
    "ExecuteTime": {
     "end_time": "2023-05-17T03:18:28.380865Z",
     "start_time": "2023-05-17T03:18:28.090490Z"
    }
   }
  },
  {
   "cell_type": "code",
   "execution_count": 8,
   "outputs": [],
   "source": [
    "#Save to excel\n",
    "data_df.index += 1\n",
    "df_country_status.index += 1\n",
    "today_date = datetime.today().strftime('%Y-%m-%d')\n",
    "file_name = \"passport-power\"+\"-\"+today_date+\".xlsx\"\n",
    "\n",
    "writer = pd.ExcelWriter(file_name, engine='xlsxwriter')\n",
    "\n",
    "data_df.to_excel(writer, sheet_name='Sheet 1')\n",
    "df_country_status.to_excel(writer, sheet_name='Sheet 2')\n",
    "\n",
    "writer.save()"
   ],
   "metadata": {
    "collapsed": false,
    "ExecuteTime": {
     "end_time": "2023-05-17T03:18:29.758211Z",
     "start_time": "2023-05-17T03:18:28.382247Z"
    }
   }
  },
  {
   "cell_type": "code",
   "execution_count": 9,
   "outputs": [
    {
     "name": "stdout",
     "output_type": "stream",
     "text": [
      "Total Countries:  199\n"
     ]
    }
   ],
   "source": [
    "print(\"Total Countries: \", len(all_data))"
   ],
   "metadata": {
    "collapsed": false,
    "ExecuteTime": {
     "end_time": "2023-05-17T03:18:29.761461Z",
     "start_time": "2023-05-17T03:18:29.758597Z"
    }
   }
  },
  {
   "cell_type": "code",
   "execution_count": 10,
   "outputs": [
    {
     "data": {
      "text/plain": "Empty DataFrame\nColumns: [origin, destination, requirement_status, requirement]\nIndex: []",
      "text/html": "<div>\n<style scoped>\n    .dataframe tbody tr th:only-of-type {\n        vertical-align: middle;\n    }\n\n    .dataframe tbody tr th {\n        vertical-align: top;\n    }\n\n    .dataframe thead th {\n        text-align: right;\n    }\n</style>\n<table border=\"1\" class=\"dataframe\">\n  <thead>\n    <tr style=\"text-align: right;\">\n      <th></th>\n      <th>origin</th>\n      <th>destination</th>\n      <th>requirement_status</th>\n      <th>requirement</th>\n    </tr>\n  </thead>\n  <tbody>\n  </tbody>\n</table>\n</div>"
     },
     "execution_count": 10,
     "metadata": {},
     "output_type": "execute_result"
    }
   ],
   "source": [
    "data_df[data_df['destination'].isnull()]"
   ],
   "metadata": {
    "collapsed": false,
    "ExecuteTime": {
     "end_time": "2023-05-17T03:18:29.767162Z",
     "start_time": "2023-05-17T03:18:29.764536Z"
    }
   }
  },
  {
   "cell_type": "code",
   "execution_count": 11,
   "outputs": [
    {
     "data": {
      "text/plain": "      origin          destination requirement_status    requirement\n24478  Nepal          Afghanistan                  0  visa_required\n24479  Nepal              Albania                  0  visa_required\n24480  Nepal              Algeria                  0  visa_required\n24481  Nepal              Andorra                  0  visa_required\n24483  Nepal  Antigua and Barbuda                  0  visa_required\n...      ...                  ...                ...            ...\n24671  Nepal            Venezuela                  0  visa_required\n24672  Nepal              Vietnam                  0  visa_required\n24673  Nepal                Yemen                  0  visa_required\n24674  Nepal               Zambia                  0  visa_required\n24675  Nepal             Zimbabwe                  0  visa_required\n\n[144 rows x 4 columns]",
      "text/html": "<div>\n<style scoped>\n    .dataframe tbody tr th:only-of-type {\n        vertical-align: middle;\n    }\n\n    .dataframe tbody tr th {\n        vertical-align: top;\n    }\n\n    .dataframe thead th {\n        text-align: right;\n    }\n</style>\n<table border=\"1\" class=\"dataframe\">\n  <thead>\n    <tr style=\"text-align: right;\">\n      <th></th>\n      <th>origin</th>\n      <th>destination</th>\n      <th>requirement_status</th>\n      <th>requirement</th>\n    </tr>\n  </thead>\n  <tbody>\n    <tr>\n      <th>24478</th>\n      <td>Nepal</td>\n      <td>Afghanistan</td>\n      <td>0</td>\n      <td>visa_required</td>\n    </tr>\n    <tr>\n      <th>24479</th>\n      <td>Nepal</td>\n      <td>Albania</td>\n      <td>0</td>\n      <td>visa_required</td>\n    </tr>\n    <tr>\n      <th>24480</th>\n      <td>Nepal</td>\n      <td>Algeria</td>\n      <td>0</td>\n      <td>visa_required</td>\n    </tr>\n    <tr>\n      <th>24481</th>\n      <td>Nepal</td>\n      <td>Andorra</td>\n      <td>0</td>\n      <td>visa_required</td>\n    </tr>\n    <tr>\n      <th>24483</th>\n      <td>Nepal</td>\n      <td>Antigua and Barbuda</td>\n      <td>0</td>\n      <td>visa_required</td>\n    </tr>\n    <tr>\n      <th>...</th>\n      <td>...</td>\n      <td>...</td>\n      <td>...</td>\n      <td>...</td>\n    </tr>\n    <tr>\n      <th>24671</th>\n      <td>Nepal</td>\n      <td>Venezuela</td>\n      <td>0</td>\n      <td>visa_required</td>\n    </tr>\n    <tr>\n      <th>24672</th>\n      <td>Nepal</td>\n      <td>Vietnam</td>\n      <td>0</td>\n      <td>visa_required</td>\n    </tr>\n    <tr>\n      <th>24673</th>\n      <td>Nepal</td>\n      <td>Yemen</td>\n      <td>0</td>\n      <td>visa_required</td>\n    </tr>\n    <tr>\n      <th>24674</th>\n      <td>Nepal</td>\n      <td>Zambia</td>\n      <td>0</td>\n      <td>visa_required</td>\n    </tr>\n    <tr>\n      <th>24675</th>\n      <td>Nepal</td>\n      <td>Zimbabwe</td>\n      <td>0</td>\n      <td>visa_required</td>\n    </tr>\n  </tbody>\n</table>\n<p>144 rows × 4 columns</p>\n</div>"
     },
     "execution_count": 11,
     "metadata": {},
     "output_type": "execute_result"
    }
   ],
   "source": [
    "# Check status for Nepal\n",
    "status = [\"visa_required\"]\n",
    "data_df[(data_df[\"origin\"] == \"Nepal\") & (data_df['requirement'].isin(status))]"
   ],
   "metadata": {
    "collapsed": false,
    "ExecuteTime": {
     "end_time": "2023-05-17T03:18:29.774709Z",
     "start_time": "2023-05-17T03:18:29.772551Z"
    }
   }
  }
 ],
 "metadata": {
  "kernelspec": {
   "display_name": "Python 3",
   "language": "python",
   "name": "python3"
  },
  "language_info": {
   "codemirror_mode": {
    "name": "ipython",
    "version": 2
   },
   "file_extension": ".py",
   "mimetype": "text/x-python",
   "name": "python",
   "nbconvert_exporter": "python",
   "pygments_lexer": "ipython2",
   "version": "2.7.6"
  }
 },
 "nbformat": 4,
 "nbformat_minor": 0
}
